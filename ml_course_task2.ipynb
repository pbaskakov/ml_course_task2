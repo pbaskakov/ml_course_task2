{
 "cells": [
  {
   "cell_type": "code",
   "execution_count": 31,
   "metadata": {},
   "outputs": [
    {
     "name": "stdout",
     "output_type": "stream",
     "text": [
      "1. 577 314\n",
      "2. 38.38383838383838\n",
      "3. 24.242424242424242\n",
      "4. 29.69911764705882 28.0\n",
      "5. 0.41483769862015624 Moderate correlation\n",
      "6. Anna 15\n"
     ]
    }
   ],
   "source": [
    "import pandas\n",
    "\n",
    "def get_clear_name(name):\n",
    "    name = name[name.index('.') + 2 : ]\n",
    "    if '(' not in name or ('(' in name and '\"' in name):\n",
    "        try:\n",
    "            return name[ : name.index(' ')]\n",
    "        except:\n",
    "            return name\n",
    "\n",
    "    name = name[name.index('(') + 1 : name.index(')')]\n",
    "    try:\n",
    "        return name[ : name.index(' ')]\n",
    "    except:\n",
    "        return name\n",
    "        \n",
    "    \n",
    "if __name__ == '__main__':\n",
    "    data = pandas.read_csv('titanic.csv', index_col = 'PassengerId')\n",
    "    males = data['Sex'].value_counts()['male']\n",
    "    print('1. {} {}'.format(males , len(data) - males))\n",
    "    print('2. {}'.format(data['Survived'].mean() * 100))\n",
    "    print('3. {}'.format(data['Pclass'].value_counts()[1] * 100 / len(data)))\n",
    "    print('4. {} {}'.format(data['Age'].mean(), data['Age'].median()))\n",
    "    print('5. {} Moderate correlation'.format(data['SibSp'].corr(data['Parch'])))\n",
    "    female_names = data[data['Sex'] == 'female']['Name']\n",
    "    female_names = female_names.map(get_clear_name)\n",
    "    female_names = female_names.value_counts()\n",
    "    print('6. {} {}'.format(female_names.index[0], female_names.values[0]))"
   ]
  }
 ],
 "metadata": {
  "kernelspec": {
   "display_name": "Python 3",
   "language": "python",
   "name": "python3"
  },
  "language_info": {
   "codemirror_mode": {
    "name": "ipython",
    "version": 3
   },
   "file_extension": ".py",
   "mimetype": "text/x-python",
   "name": "python",
   "nbconvert_exporter": "python",
   "pygments_lexer": "ipython3",
   "version": "3.6.4"
  }
 },
 "nbformat": 4,
 "nbformat_minor": 2
}
